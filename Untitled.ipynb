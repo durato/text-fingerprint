{
 "cells": [
  {
   "cell_type": "code",
   "execution_count": 31,
   "metadata": {},
   "outputs": [
    {
     "name": "stdout",
     "output_type": "stream",
     "text": [
      "before filter: len(data)=2275945\n",
      "after filter: len(data)=25079\n",
      "type(result)=<class 'pandas.core.frame.DataFrame'>\n",
      "           pair left right  distance  occurrence\n",
      "9534     of the   of   the         1        1131\n",
      "7185     in the   in   the         1        1125\n",
      "13556     to be   to    be         1         672\n",
      "9901     on the   on   the         1         602\n",
      "13548    to the   to   the         1         596\n",
      "...         ...  ...   ...       ...         ...\n",
      "6857   his head  his  head         1          11\n",
      "6834     him up  him    up         1          11\n",
      "6831    him but  him   but         1          11\n",
      "6827     him on  him    on         1          11\n",
      "6826    him out  him   out         1          11\n",
      "\n",
      "[5337 rows x 5 columns]\n"
     ]
    }
   ],
   "source": [
    "# -*- coding: utf-8 -*-\n",
    "import pickle\n",
    "import pandas as pd\n",
    "import numpy as np\n",
    "import matplotlib.pyplot as plt\n",
    "from typing import List\n",
    "import inspect\n",
    "\n",
    "def optimize_floats(df: pd.DataFrame) -> pd.DataFrame:\n",
    "    floats = df.select_dtypes(include=['float64']).columns.tolist()\n",
    "    df[floats] = df[floats].apply(pd.to_numeric, downcast='float')\n",
    "    return df\n",
    "\n",
    "\n",
    "def optimize_ints(df: pd.DataFrame) -> pd.DataFrame:\n",
    "    ints = df.select_dtypes(include=['int64']).columns.tolist()\n",
    "    df[ints] = df[ints].apply(pd.to_numeric, downcast='integer')\n",
    "    return df\n",
    "\n",
    "\n",
    "def optimize_objects(df: pd.DataFrame, datetime_features: List[str]) -> pd.DataFrame:\n",
    "    for col in df.select_dtypes(include=['object']):\n",
    "        if col not in datetime_features:\n",
    "            num_unique_values = len(df[col].unique())\n",
    "            num_total_values = len(df[col])\n",
    "            if float(num_unique_values) / num_total_values < 0.5:\n",
    "                print(col)\n",
    "                df[col] = df[col].astype('category')\n",
    "        else:\n",
    "            df[col] = pd.to_datetime(df[col])\n",
    "    return df\n",
    "\n",
    "\n",
    "\n",
    "def optimize(df: pd.DataFrame, datetime_features: List[str] = []):\n",
    "    return df\n",
    "    #return optimize_floats(optimize_ints(optimize_objects(df, datetime_features)))\n",
    "    return optimize_floats(optimize_ints(df))\n",
    "\n",
    "data = []\n",
    "\n",
    "with open(\"reddit_comments_dbAggrData_fromQuery20200604_135102.dat\", mode='rb') as f:\n",
    "  data = pickle.load(f)\n",
    "\n",
    "print(f'before filter: {len(data)=}')\n",
    "\n",
    "ignored = [\"!\",\".\",\",\",\":\",\"?\",\";\",\"&gt\",\"//www\"]\n",
    "limit = 10\n",
    "data = list(filter(lambda x: x[3]>limit and (x[0] not in ignored) and (x[1] not in ignored), data))\n",
    "print(f'after filter: {len(data)=}')\n",
    "\n",
    "df = optimize(pd.DataFrame.from_records(data, columns=['left','right','distance','occurrence']))\n",
    "df = df[df['occurrence']>10].sort_values('occurrence', ascending=False)\n",
    "\n",
    "#df['occurrence'] = df['occurrence'].apply(lambda x: x-(x%100))\n",
    "notsame = df['left']!=df['right']\n",
    "mean = df['occurrence'].mean()\n",
    "notRare = df['occurrence']>mean\n",
    "close = df['distance']==1\n",
    "result = df[notsame & close]\n",
    "\n",
    "result.insert(0, \"pair\", result['left']+\" \"+result['right'])\n",
    "print(f'{type(result)=}')\n",
    "print(result)\n"
   ]
  },
  {
   "cell_type": "code",
   "execution_count": 32,
   "metadata": {},
   "outputs": [
    {
     "data": {
      "text/plain": [
       "9534     of the\n",
       "7185     in the\n",
       "13556     to be\n",
       "9901     on the\n",
       "13548    to the\n",
       "Name: pair, dtype: object"
      ]
     },
     "execution_count": 32,
     "metadata": {},
     "output_type": "execute_result"
    }
   ],
   "source": [
    "result['pair'].head()"
   ]
  },
  {
   "cell_type": "code",
   "execution_count": 33,
   "metadata": {},
   "outputs": [
    {
     "name": "stdout",
     "output_type": "stream",
     "text": [
      "           sum\n",
      "pair          \n",
      "&amp nbsp   55\n",
      "* *Ive      27\n",
      "* 1         11\n",
      "*I am       32\n",
      "*[I am      59\n"
     ]
    }
   ],
   "source": [
    "grp = result.groupby('pair')['occurrence'].agg(['sum'])\n",
    "print(grp.head())"
   ]
  },
  {
   "cell_type": "code",
   "execution_count": 45,
   "metadata": {},
   "outputs": [
    {
     "data": {
      "text/plain": [
       "pandas.core.frame.DataFrame"
      ]
     },
     "execution_count": 45,
     "metadata": {},
     "output_type": "execute_result"
    }
   ],
   "source": [
    "type(grp)"
   ]
  },
  {
   "cell_type": "code",
   "execution_count": 53,
   "metadata": {},
   "outputs": [
    {
     "data": {
      "text/plain": [
       "Index(['sum'], dtype='object')"
      ]
     },
     "execution_count": 53,
     "metadata": {},
     "output_type": "execute_result"
    }
   ],
   "source": [
    "grp.columns"
   ]
  },
  {
   "cell_type": "code",
   "execution_count": 65,
   "metadata": {},
   "outputs": [
    {
     "data": {
      "text/html": [
       "<div>\n",
       "<style scoped>\n",
       "    .dataframe tbody tr th:only-of-type {\n",
       "        vertical-align: middle;\n",
       "    }\n",
       "\n",
       "    .dataframe tbody tr th {\n",
       "        vertical-align: top;\n",
       "    }\n",
       "\n",
       "    .dataframe thead th {\n",
       "        text-align: right;\n",
       "    }\n",
       "</style>\n",
       "<table border=\"1\" class=\"dataframe\">\n",
       "  <thead>\n",
       "    <tr style=\"text-align: right;\">\n",
       "      <th></th>\n",
       "      <th>pair</th>\n",
       "      <th>sum</th>\n",
       "    </tr>\n",
       "  </thead>\n",
       "  <tbody>\n",
       "    <tr>\n",
       "      <th>0</th>\n",
       "      <td>&amp;amp nbsp</td>\n",
       "      <td>55</td>\n",
       "    </tr>\n",
       "    <tr>\n",
       "      <th>1</th>\n",
       "      <td>* *Ive</td>\n",
       "      <td>27</td>\n",
       "    </tr>\n",
       "    <tr>\n",
       "      <th>2</th>\n",
       "      <td>* 1</td>\n",
       "      <td>11</td>\n",
       "    </tr>\n",
       "    <tr>\n",
       "      <th>3</th>\n",
       "      <td>*I am</td>\n",
       "      <td>32</td>\n",
       "    </tr>\n",
       "    <tr>\n",
       "      <th>4</th>\n",
       "      <td>*[I am</td>\n",
       "      <td>59</td>\n",
       "    </tr>\n",
       "    <tr>\n",
       "      <th>...</th>\n",
       "      <td>...</td>\n",
       "      <td>...</td>\n",
       "    </tr>\n",
       "    <tr>\n",
       "      <th>3461</th>\n",
       "      <td>┐ ノʘДʘノ┌༼ຈnຈ༽┐</td>\n",
       "      <td>31</td>\n",
       "    </tr>\n",
       "    <tr>\n",
       "      <th>3462</th>\n",
       "      <td>✔ |</td>\n",
       "      <td>16</td>\n",
       "    </tr>\n",
       "    <tr>\n",
       "      <th>3463</th>\n",
       "      <td>つ ◕_◕</td>\n",
       "      <td>18</td>\n",
       "    </tr>\n",
       "    <tr>\n",
       "      <th>3464</th>\n",
       "      <td>ノʘДʘノ┌༼ຈnຈ༽┐ ノ༼༎ຶ_༎ຶノ༽</td>\n",
       "      <td>31</td>\n",
       "    </tr>\n",
       "    <tr>\n",
       "      <th>3465</th>\n",
       "      <td>ノ༼༎ຶ_༎ຶノ༽ \\\\/´Д｀</td>\n",
       "      <td>32</td>\n",
       "    </tr>\n",
       "  </tbody>\n",
       "</table>\n",
       "<p>3466 rows × 2 columns</p>\n",
       "</div>"
      ],
      "text/plain": [
       "                        pair  sum\n",
       "0                  &amp nbsp   55\n",
       "1                     * *Ive   27\n",
       "2                        * 1   11\n",
       "3                      *I am   32\n",
       "4                     *[I am   59\n",
       "...                      ...  ...\n",
       "3461          ┐ ノʘДʘノ┌༼ຈnຈ༽┐   31\n",
       "3462                     ✔ |   16\n",
       "3463                   つ ◕_◕   18\n",
       "3464  ノʘДʘノ┌༼ຈnຈ༽┐ ノ༼༎ຶ_༎ຶノ༽   31\n",
       "3465        ノ༼༎ຶ_༎ຶノ༽ \\\\/´Д｀   32\n",
       "\n",
       "[3466 rows x 2 columns]"
      ]
     },
     "execution_count": 65,
     "metadata": {},
     "output_type": "execute_result"
    }
   ],
   "source": [
    "grp.reset_index()"
   ]
  },
  {
   "cell_type": "code",
   "execution_count": 62,
   "metadata": {},
   "outputs": [
    {
     "data": {
      "text/plain": [
       "array(['sum'], dtype=object)"
      ]
     },
     "execution_count": 62,
     "metadata": {},
     "output_type": "execute_result"
    }
   ],
   "source": [
    "grp.columns.values"
   ]
  },
  {
   "cell_type": "code",
   "execution_count": null,
   "metadata": {},
   "outputs": [],
   "source": []
  }
 ],
 "metadata": {
  "kernelspec": {
   "display_name": "Python 3",
   "language": "python",
   "name": "python3"
  },
  "language_info": {
   "codemirror_mode": {
    "name": "ipython",
    "version": 3
   },
   "file_extension": ".py",
   "mimetype": "text/x-python",
   "name": "python",
   "nbconvert_exporter": "python",
   "pygments_lexer": "ipython3",
   "version": "3.8.3"
  }
 },
 "nbformat": 4,
 "nbformat_minor": 4
}
